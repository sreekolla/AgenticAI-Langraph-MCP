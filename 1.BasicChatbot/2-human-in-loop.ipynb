{
 "cells": [
  {
   "cell_type": "code",
   "execution_count": 1,
   "id": "92ecf8ad",
   "metadata": {},
   "outputs": [
    {
     "data": {
      "text/plain": [
       "ChatGroq(client=<groq.resources.chat.completions.Completions object at 0x000001CEC6F09F70>, async_client=<groq.resources.chat.completions.AsyncCompletions object at 0x000001CEC7051F10>, model_name='qwen/qwen3-32b', model_kwargs={}, groq_api_key=SecretStr('**********'))"
      ]
     },
     "execution_count": 1,
     "metadata": {},
     "output_type": "execute_result"
    }
   ],
   "source": [
    "import os\n",
    "from dotenv import load_dotenv\n",
    "load_dotenv()\n",
    "\n",
    "from langchain.chat_models import init_chat_model\n",
    "\n",
    "llm = init_chat_model(\"groq:qwen/qwen3-32b\")\n",
    "llm"
   ]
  },
  {
   "cell_type": "code",
   "execution_count": 2,
   "id": "fe90a9bd",
   "metadata": {},
   "outputs": [
    {
     "data": {
      "image/png": "[encoded data removed]",
      "text/plain": [
       "<IPython.core.display.Image object>"
      ]
     },
     "metadata": {},
     "output_type": "display_data"
    }
   ],
   "source": [
    "from typing import Annotated\n",
    "from typing_extensions import TypedDict\n",
    "from langgraph.graph import StateGraph, START, END\n",
    "from langgraph.graph.message import add_messages\n",
    "from langgraph.prebuilt import ToolNode, tools_condition\n",
    "from langchain_tavily import TavilySearch\n",
    "from langchain_core.tools import tool\n",
    "from langgraph.checkpoint.memory import MemorySaver\n",
    "from langgraph.types import Command,interrupt\n",
    "\n",
    "class State(TypedDict):\n",
    "    messages: Annotated[list, add_messages]\n",
    "\n",
    "\n",
    "@tool\n",
    "\n",
    "def human_assistance(query: str) -> str:\n",
    "    \"\"\"Request assistance from a human.\"\"\"\n",
    "    human_response = interrupt({\"query\":query})\n",
    "    return human_response[\"data\"]\n",
    "\n",
    "tool = TavilySearch(max_results=2)\n",
    "tools = [tool, human_assistance]\n",
    "llm_with_tools = llm.bind_tools(tools)\n",
    "\n",
    "def chatbot(state:State):\n",
    "    return {\"messages\":[llm_with_tools.invoke(state[\"messages\"])]}\n",
    "\n",
    "builder = StateGraph(State)\n",
    "builder.add_node(\"chatbot\",chatbot)\n",
    "builder.add_node(\"tools\",ToolNode(tools))\n",
    "\n",
    "builder.add_conditional_edges(\"chatbot\",\n",
    "                              tools_condition)\n",
    "\n",
    "builder.add_edge(START,\"chatbot\")\n",
    "builder.add_edge(\"tools\",\"chatbot\")\n",
    "\n",
    "from langgraph.checkpoint.memory import MemorySaver\n",
    "\n",
    "memory = MemorySaver()\n",
    "\n",
    "graph = builder.compile(checkpointer=memory)\n",
    "\n",
    "from IPython.display import Image, display\n",
    "\n",
    "try:\n",
    "    display(Image(graph.get_graph().draw_mermaid_png()))\n",
    "except Exception:\n",
    "    pass\n"
   ]
  },
  {
   "cell_type": "code",
   "execution_count": 3,
   "id": "43f9ecaf",
   "metadata": {},
   "outputs": [
    {
     "name": "stdout",
     "output_type": "stream",
     "text": [
      "================================\u001b[1m Human Message \u001b[0m=================================\n",
      "\n",
      "I need expert guidance for building an AI agent. Could you request assistance for me?\n",
      "==================================\u001b[1m Ai Message \u001b[0m==================================\n",
      "Tool Calls:\n",
      "  human_assistance (qr7q13r24)\n",
      " Call ID: qr7q13r24\n",
      "  Args:\n",
      "    query: I need expert guidance for building an AI agent. Could you request assistance for me?\n"
     ]
    }
   ],
   "source": [
    "user_input = \"I need expert guidance for building an AI agent. Could you request assistance for me?\"\n",
    "config = {\"configurable\":{\"thread_id\":\"1\"}}\n",
    "events = graph.stream(\n",
    "    {\"messages\": user_input},\n",
    "    config,\n",
    "    stream_mode= \"values\",\n",
    ")\n",
    "\n",
    "for event in events:\n",
    "    if \"messages\" in event:\n",
    "        event[\"messages\"][-1].pretty_print()"
   ]
  },
  {
   "cell_type": "code",
   "execution_count": 4,
   "id": "7b84a648",
   "metadata": {},
   "outputs": [
    {
     "name": "stdout",
     "output_type": "stream",
     "text": [
      "==================================\u001b[1m Ai Message \u001b[0m==================================\n",
      "Tool Calls:\n",
      "  human_assistance (qr7q13r24)\n",
      " Call ID: qr7q13r24\n",
      "  Args:\n",
      "    query: I need expert guidance for building an AI agent. Could you request assistance for me?\n",
      "=================================\u001b[1m Tool Message \u001b[0m=================================\n",
      "Name: human_assistance\n",
      "\n",
      "We, the expertes are here to help! We'd recommend you checkout LangGraph to build your agent.Tt's much more reliable and extensible than simple autonomus agents.\n",
      "==================================\u001b[1m Ai Message \u001b[0m==================================\n",
      "\n",
      "The expert recommends exploring **LangGraph** for building your AI agent, highlighting its reliability and extensibility compared to simpler autonomous agent frameworks. To proceed:\n",
      "\n",
      "1. **What is LangGraph?**  \n",
      "   LangGraph is a framework designed for building scalable, production-ready language model applications. It emphasizes modularity, allowing you to define workflows as directed acyclic graphs (DAGs) for complex tasks.\n",
      "\n",
      "2. **Key Advantages**  \n",
      "   - **Reliability**: Structured workflows reduce errors in long chains of reasoning.  \n",
      "   - **Extensibility**: Easily integrate tools, databases, or APIs into your agent's logic.  \n",
      "   - **Control**: Fine-grained management of state, memory, and execution flow.  \n",
      "\n",
      "3. **Getting Started**  \n",
      "   Visit the [LangGraph documentation](https://python.langchain.com/docs/techniques/graphs/) to explore tutorials, installation guides, and code examples. Start with their \"Hello World\" agent template to prototype your use case.\n",
      "\n",
      "Would you like guidance on specific aspects of LangGraph (e.g., setup, workflows, or integration with LLMs)?\n"
     ]
    }
   ],
   "source": [
    "human_response = (\n",
    "    \"We, the expertes are here to help! We'd recommend you checkout LangGraph to build your agent.\"\n",
    "    \"Tt's much more reliable and extensible than simple autonomus agents.\"\n",
    ")\n",
    "\n",
    "human_command = Command(resume= {\"data\": human_response})\n",
    "\n",
    "events = graph.stream(human_command, config, stream_mode =\"values\")\n",
    "\n",
    "for event in events:\n",
    "    if \"messages\" in event:\n",
    "        event[\"messages\"][-1].pretty_print()"
   ]
  }
 ],
 "metadata": {
  "kernelspec": {
   "display_name": "AgenticAI-Langraph-MCP",
   "language": "python",
   "name": "python3"
  },
  "language_info": {
   "codemirror_mode": {
    "name": "ipython",
    "version": 3
   },
   "file_extension": ".py",
   "mimetype": "text/x-python",
   "name": "python",
   "nbconvert_exporter": "python",
   "pygments_lexer": "ipython3",
   "version": "3.12.11"
  }
 },
 "nbformat": 4,
 "nbformat_minor": 5
}
