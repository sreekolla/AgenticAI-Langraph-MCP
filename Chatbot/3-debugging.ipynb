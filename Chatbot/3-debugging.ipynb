{
 "cells": [
  {
   "cell_type": "code",
   "execution_count": 1,
   "id": "ba8d57a9",
   "metadata": {},
   "outputs": [],
   "source": [
    "from typing import Annotated\n",
    "from typing_extensions import TypedDict\n",
    "from langgraph.graph import StateGraph, START, END\n",
    "from langgraph.graph.message import add_messages\n",
    "from langgraph.prebuilt import ToolNode,  tools_condition\n",
    "from langchain_core.tools import tool\n",
    "from langchain_core.messages import BaseMessage\n",
    "import os\n",
    "from dotenv import load_dotenv\n"
   ]
  },
  {
   "cell_type": "code",
   "execution_count": 2,
   "id": "2aa42a04",
   "metadata": {},
   "outputs": [],
   "source": [
    "os.environ[\"LANGSMITH_PROJECT\"]=\"DebuggingProject\""
   ]
  },
  {
   "cell_type": "code",
   "execution_count": 3,
   "id": "4f75de89",
   "metadata": {},
   "outputs": [],
   "source": [
    "load_dotenv()\n",
    "os.environ[\"GROQ_API_KEY\"]= os.getenv(\"GROQ_API_KEY\")\n",
    "os.environ[\"LANGSMITH_API_KEY\"]= os.getenv(\"LANGCHAIN_API_KEY\")\n",
    "os.environ[\"LANGSMITH_TRACING\"]= \"true\"\n"
   ]
  },
  {
   "cell_type": "code",
   "execution_count": 4,
   "id": "87a40052",
   "metadata": {},
   "outputs": [
    {
     "data": {
      "text/plain": [
       "ChatGroq(client=<groq.resources.chat.completions.Completions object at 0x000001E3B9C173E0>, async_client=<groq.resources.chat.completions.AsyncCompletions object at 0x000001E3B9D56720>, model_name='qwen/qwen3-32b', model_kwargs={}, groq_api_key=SecretStr('**********'))"
      ]
     },
     "execution_count": 4,
     "metadata": {},
     "output_type": "execute_result"
    }
   ],
   "source": [
    "from langchain.chat_models import init_chat_model\n",
    "llm = init_chat_model(\"groq:qwen/qwen3-32b\")\n",
    "llm"
   ]
  },
  {
   "cell_type": "code",
   "execution_count": 5,
   "id": "c955049d",
   "metadata": {},
   "outputs": [],
   "source": [
    "class State(TypedDict):\n",
    "    messages:Annotated[list[BaseMessage],add_messages]"
   ]
  },
  {
   "cell_type": "code",
   "execution_count": 7,
   "id": "cffb14a8",
   "metadata": {},
   "outputs": [
    {
     "data": {
      "text/plain": [
       "<langgraph.graph.state.StateGraph at 0x1e3b9ab80b0>"
      ]
     },
     "execution_count": 7,
     "metadata": {},
     "output_type": "execute_result"
    }
   ],
   "source": [
    "#Graph with tool call\n",
    "\n",
    "@tool\n",
    "def add(a:float,b:float):\n",
    "    \"\"\"Add two numbers\"\"\"\n",
    "    return a+b\n",
    "\n",
    "tools =[add]\n",
    "\n",
    "\n",
    "\n",
    "llm_with_tool = llm.bind_tools([add])\n",
    "\n",
    "def call_llm_model(state:State):\n",
    "    return {\"messages\":[llm_with_tool.invoke(state[\"messages\"])]}\n",
    "\n",
    "builder = StateGraph(State)\n",
    "builder.add_node(\"tool_calling_llm\",call_llm_model)\n",
    "builder.add_node(\"tools\",ToolNode(tools))\n",
    "\n",
    "builder.add_conditional_edges(\"tool_calling_llm\",\n",
    "                              tools_condition)\n",
    "builder.add_edge(\"tools\",\"tool_calling_llm\")\n",
    "\n",
    "builder.add_edge(START,\"tool_calling_llm\")\n",
    "builder.add_edge(\"tools\",END)"
   ]
  },
  {
   "cell_type": "code",
   "execution_count": 8,
   "id": "153d2995",
   "metadata": {},
   "outputs": [
    {
     "data": {
      "image/png": "[encoded data removed]",
      "text/plain": [
       "<IPython.core.display.Image object>"
      ]
     },
     "metadata": {},
     "output_type": "display_data"
    }
   ],
   "source": [
    "graph =builder.compile()\n",
    "\n",
    "from IPython.display import Image, display\n",
    "\n",
    "display(Image(graph.get_graph().draw_mermaid_png()))"
   ]
  },
  {
   "cell_type": "code",
   "execution_count": 9,
   "id": "4e231984",
   "metadata": {},
   "outputs": [],
   "source": [
    "response= graph.invoke({\"messages\":\"please add 5 and 10\"})"
   ]
  },
  {
   "cell_type": "code",
   "execution_count": 32,
   "id": "46d4a69b",
   "metadata": {},
   "outputs": [
    {
     "data": {
      "text/plain": [
       "{'messages': [HumanMessage(content='please add 5 and 10', additional_kwargs={}, response_metadata={}, id='18f4dd97-7d36-4fbf-bee7-0d84750ebe69'),\n",
       "  AIMessage(content='', additional_kwargs={'reasoning_content': \"Okay, the user is asking to add 5 and 10. Let me check the tools available. There's a function called add that takes two numbers, a and b. The parameters are required, so I need to make sure both are included. The arguments should be in a JSON object. So, I'll call the add function with a=5 and b=10. That should give the correct sum.\\n\", 'tool_calls': [{'id': '7zzjzxqe6', 'function': {'arguments': '{\"a\":5,\"b\":10}', 'name': 'add'}, 'type': 'function'}]}, response_metadata={'token_usage': {'completion_tokens': 116, 'prompt_tokens': 162, 'total_tokens': 278, 'completion_time': 0.201063585, 'prompt_time': 0.006881874, 'queue_time': 0.037589675, 'total_time': 0.207945459}, 'model_name': 'qwen/qwen3-32b', 'system_fingerprint': 'fp_78ac7f3229', 'service_tier': 'on_demand', 'finish_reason': 'tool_calls', 'logprobs': None, 'model_provider': 'groq'}, id='lc_run--c3189b0f-404f-46fb-bb8a-8852bcfbde22-0', tool_calls=[{'name': 'add', 'args': {'a': 5, 'b': 10}, 'id': '7zzjzxqe6', 'type': 'tool_call'}], usage_metadata={'input_tokens': 162, 'output_tokens': 116, 'total_tokens': 278}),\n",
       "  ToolMessage(content='15.0', name='add', id='78c94c9c-49b9-43fa-b437-c8b2e03825b2', tool_call_id='7zzjzxqe6'),\n",
       "  AIMessage(content='The sum of 5 and 10 is **15.0**.', additional_kwargs={'reasoning_content': \"Okay, the user asked to add 5 and 10. I called the add function with those numbers. The result came back as 15.0. I need to present this answer clearly. Let me check if there's any specific format they want. Since they just asked for the sum, stating the result directly makes sense. Maybe mention the numbers added again for clarity. Alright, that should do it.\\n\"}, response_metadata={'token_usage': {'completion_tokens': 107, 'prompt_tokens': 209, 'total_tokens': 316, 'completion_time': 0.189219977, 'prompt_time': 0.008244229, 'queue_time': 0.07873618, 'total_time': 0.197464206}, 'model_name': 'qwen/qwen3-32b', 'system_fingerprint': 'fp_efa9879028', 'service_tier': 'on_demand', 'finish_reason': 'stop', 'logprobs': None, 'model_provider': 'groq'}, id='lc_run--f5c6d238-1c25-4e33-bd45-2599b074fa4f-0', usage_metadata={'input_tokens': 209, 'output_tokens': 107, 'total_tokens': 316})]}"
      ]
     },
     "execution_count": 32,
     "metadata": {},
     "output_type": "execute_result"
    }
   ],
   "source": [
    "response"
   ]
  },
  {
   "cell_type": "code",
   "execution_count": 10,
   "id": "fb822f07",
   "metadata": {},
   "outputs": [
    {
     "data": {
      "text/plain": [
       "'The sum of 5 and 10 is **15.0**.'"
      ]
     },
     "execution_count": 10,
     "metadata": {},
     "output_type": "execute_result"
    }
   ],
   "source": [
    "response[\"messages\"][-1].content"
   ]
  }
 ],
 "metadata": {
  "kernelspec": {
   "display_name": "AgenticAI-Langraph-MCP",
   "language": "python",
   "name": "python3"
  },
  "language_info": {
   "codemirror_mode": {
    "name": "ipython",
    "version": 3
   },
   "file_extension": ".py",
   "mimetype": "text/x-python",
   "name": "python",
   "nbconvert_exporter": "python",
   "pygments_lexer": "ipython3",
   "version": "3.12.11"
  }
 },
 "nbformat": 4,
 "nbformat_minor": 5
}
