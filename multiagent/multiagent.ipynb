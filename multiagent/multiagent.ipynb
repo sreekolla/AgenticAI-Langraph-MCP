{
 "cells": [
  {
   "cell_type": "markdown",
   "id": "05d65dc9",
   "metadata": {},
   "source": [
    "**Simple MultiAgent**"
   ]
  },
  {
   "cell_type": "code",
   "execution_count": null,
   "id": "36f68a0c",
   "metadata": {},
   "outputs": [],
   "source": [
    "from typing import Annotated, TypedDict, List, Literal\n",
    "from langgraph.graph import StateGraph, START, END, add_messages, MessagesState\n",
    "from langgraph.prebuilt import ToolNode,  tools_condition\n",
    "from langchain.agents import create_agent\n",
    "from langchain_core.tools import tool\n",
    "from langchain_core.messages import BaseMessage, HumanMessage, AIMessage, SystemMessage\n",
    "from langgraph.checkpoint.memory import MemorySaver\n",
    "from langchain_groq import ChatGroq\n",
    "from langchain_community.tools.tavily_search import TavilySearchResults\n",
    "import os\n",
    "from dotenv import load_dotenv\n"
   ]
  },
  {
   "cell_type": "code",
   "execution_count": null,
   "id": "faeaa749",
   "metadata": {},
   "outputs": [],
   "source": [
    ",  tools_condition\n",
    "from langchain.agents import create_agent\n",
    "from langchain_core.tools import tool\n",
    "from langchain_core.messages import BaseMessage, HumanMessage, AIMessage, SystemMessage\n",
    "from langgraph.checkpoint.memory import MemorySaver\n",
    "from langchain_groq import ChatGroq\n",
    "from langchain_community.tools.tavily_search import TavilySearchResults\n",
    "import os\n",
    "from dotenv import load_dotenv\n"
   ]
  },
  {
   "cell_type": "code",
   "execution_count": 2,
   "id": "a34085fa",
   "metadata": {},
   "outputs": [],
   "source": [
    "load_dotenv()\n",
    "os.environ[\"GROQ_API_KEY\"]= os.getenv(\"GROQ_API_KEY\")\n"
   ]
  },
  {
   "cell_type": "code",
   "execution_count": 3,
   "id": "611f7bb8",
   "metadata": {},
   "outputs": [],
   "source": [
    "##Define the  State\n",
    "\n",
    "class AgentState(MessagesState):\n",
    "    next_agent:str #which agent should go next"
   ]
  },
  {
   "cell_type": "code",
   "execution_count": 4,
   "id": "7ba75405",
   "metadata": {},
   "outputs": [],
   "source": [
    "@tool\n",
    "def search_web(query: str)-> str:\n",
    "    \"\"\"Search teh web for information.\"\"\"\n",
    "    search = TavilySearchResults(max_results = 3)\n",
    "    results = search.invoke(query)\n",
    "    return str(results)\n",
    "\n",
    "@tool\n",
    "def write_summary(content:str) -> str:\n",
    "    \"\"\"Write a summary of the provided content.\"\"\"\n",
    "    #Simple summary generation\n",
    "    summary = f\"Summary of finding:\\n\\n{content[:500]}...\""
   ]
  },
  {
   "cell_type": "code",
   "execution_count": 5,
   "id": "da6a14b2",
   "metadata": {},
   "outputs": [
    {
     "data": {
      "text/plain": [
       "ChatGroq(client=<groq.resources.chat.completions.Completions object at 0x0000026D2B9FE060>, async_client=<groq.resources.chat.completions.AsyncCompletions object at 0x0000026D2BD251F0>, model_name='llama-3.1-8b-instant', model_kwargs={}, groq_api_key=SecretStr('**********'))"
      ]
     },
     "execution_count": 5,
     "metadata": {},
     "output_type": "execute_result"
    }
   ],
   "source": [
    "from langchain.chat_models import init_chat_model\n",
    "\n",
    "llm = init_chat_model(\"groq:llama-3.1-8b-instant\")\n",
    "llm"
   ]
  },
  {
   "cell_type": "code",
   "execution_count": 6,
   "id": "d6293d73",
   "metadata": {},
   "outputs": [],
   "source": [
    "def researcher_agent(state: AgentState):\n",
    "    \"\"\"Researcher agent that searches for information\"\"\"\n",
    "    messages = state['messages']\n",
    "\n",
    "    #Add system message for context\n",
    "\n",
    "    system_msg = SystemMessage(content=\"You are a research assistant. Use the search_web tool to fing the infromation about the user's request.\")\n",
    "    researcher_llm = llm.bind_tools([search_web])\n",
    "\n",
    "    response = researcher_llm.invoke([system_msg]+ messages)\n",
    "\n",
    "    #Return response an droute to writer\n",
    "    return {\n",
    "        \"messages\": [response],\n",
    "        \"next_agent\": \"writer\"\n",
    "    }"
   ]
  },
  {
   "cell_type": "code",
   "execution_count": 29,
   "id": "b0470da2",
   "metadata": {},
   "outputs": [],
   "source": [
    "def writer_agent(state:AgentState):\n",
    "    \"\"\"Writer agent that creates summarier\"\"\"\n",
    "\n",
    "    messages = state['messages']\n",
    "\n",
    "    system_msg = SystemMessage(content=\"You are a tenchnical writer. Review the converstaion and create  a clear, concise summary of the findings.\")\n",
    "    \n",
    "    #wihtout tool\n",
    "    \n",
    "    #writer_llm = llm.bind_tools([write_summary])\n",
    "    response = llm.invoke([system_msg]+ messages)\n",
    "\n",
    "    return {\n",
    "        \"messages\": [response],\n",
    "        \"next_agent\" : \"end\"\n",
    "    }"
   ]
  },
  {
   "cell_type": "code",
   "execution_count": 30,
   "id": "8115e470",
   "metadata": {},
   "outputs": [],
   "source": [
    "#Tool executor node\n",
    "def execut_tools(state: AgentState):\n",
    "    \"\"\"Execture any pending tool calls\"\"\"\n",
    "    messages = state['messages']\n",
    "    last_message = messages[-1]\n",
    "\n",
    "    #check if there are tool calls to execute\n",
    "\n",
    "    if hasattr(last_message ,\"tool_calls\") and last_message.tool_calls:\n",
    "        #Create tool node and execute\n",
    "        tool_node = ToolNode([search_web,write_summary])\n",
    "        response = tool_node.invoke(state)\n",
    "        return response\n",
    "    \n",
    "    #no tools to execute\n",
    "    return state\n"
   ]
  },
  {
   "cell_type": "code",
   "execution_count": 34,
   "id": "84f3e881",
   "metadata": {},
   "outputs": [
    {
     "data": {
      "image/png": "[encoded data removed]",
      "text/plain": [
       "<langgraph.graph.state.CompiledStateGraph object at 0x0000026D2CE8C4A0>"
      ]
     },
     "execution_count": 34,
     "metadata": {},
     "output_type": "execute_result"
    }
   ],
   "source": [
    "#Build graph\n",
    "workflow = StateGraph (MessagesState)\n",
    "\n",
    "#Add nodes\n",
    "workflow.add_node(\"researcher\",researcher_agent)\n",
    "workflow.add_node(\"writer\",writer_agent)\n",
    "\n",
    "#Define flow\n",
    "workflow.set_entry_point(\"researcher\")\n",
    "workflow.add_edge(\"researcher\",\"writer\")\n",
    "workflow.add_edge(\"writer\", END)\n",
    "\n",
    "final_workflow = workflow.compile()\n",
    "final_workflow\n",
    "\n"
   ]
  },
  {
   "cell_type": "code",
   "execution_count": 32,
   "id": "3c92dc43",
   "metadata": {},
   "outputs": [],
   "source": [
    "response = final_workflow.invoke({\"messages\":\"Research about the usecase of agentic ai in business\"})"
   ]
  },
  {
   "cell_type": "code",
   "execution_count": 24,
   "id": "bb8ce46a",
   "metadata": {},
   "outputs": [
    {
     "data": {
      "text/plain": [
       "[HumanMessage(content='Research about the usecase of agentic ai in business', additional_kwargs={}, response_metadata={}, id='4c90223f-c1c2-45bc-af57-075a838f0007'),\n",
       " AIMessage(content='', additional_kwargs={'tool_calls': [{'id': '6htwpvh53', 'function': {'arguments': '{\"query\":\"agentic ai in business use case\"}', 'name': 'search_web'}, 'type': 'function'}]}, response_metadata={'token_usage': {'completion_tokens': 20, 'prompt_tokens': 244, 'total_tokens': 264, 'completion_time': 0.035119694, 'prompt_time': 0.013357155, 'queue_time': 0.035122267, 'total_time': 0.048476849}, 'model_name': 'llama-3.1-8b-instant', 'system_fingerprint': 'fp_020e283281', 'service_tier': 'on_demand', 'finish_reason': 'tool_calls', 'logprobs': None, 'model_provider': 'groq'}, id='lc_run--58cf32cb-103b-454c-9997-f6366162d537-0', tool_calls=[{'name': 'search_web', 'args': {'query': 'agentic ai in business use case'}, 'id': '6htwpvh53', 'type': 'tool_call'}], usage_metadata={'input_tokens': 244, 'output_tokens': 20, 'total_tokens': 264}),\n",
       " AIMessage(content=' (results)\\n\\nSummary of Findings:\\n\\nAgentic AI in business refers to the application of artificial intelligence (AI) that enables organizations to make decisions, take actions, and interact with customers, employees, and other stakeholders in a more autonomous and dynamic manner. The use cases of agentic AI in business are numerous and varied, but some of the most significant ones include:\\n\\n1. **Customer Service Automation**: Agentic AI can be used to automate customer service operations, such as chatbots that can understand and respond to customer inquiries, and personalized recommendations based on customer behavior and preferences.\\n2. **Predictive Maintenance**: Agentic AI can analyze sensor data from equipment and predict when maintenance is required, reducing downtime and increasing overall equipment effectiveness.\\n3. **Supply Chain Optimization**: Agentic AI can analyze supply chain data and make recommendations to optimize inventory levels, shipping routes, and logistics operations.\\n4. **Marketing Automation**: Agentic AI can analyze customer data and behavior to create personalized marketing campaigns, and optimize ad spend based on customer engagement and conversion rates.\\n5. **Employee Experience**: Agentic AI can analyze employee data and behavior to create personalized learning recommendations, and optimize employee engagement and retention.\\n6. **Risk Management**: Agentic AI can analyze risk data and make recommendations to reduce risk exposure, and optimize insurance premiums based on actual risk levels.\\n7. **Compliance and Governance**: Agentic AI can analyze regulatory data and make recommendations to ensure compliance with regulatory requirements, and optimize regulatory reporting and audit processes.\\n\\nKey Benefits of Agentic AI in Business:\\n\\n1. **Improved Efficiency**: Agentic AI can automate routine tasks and free up human resources for more strategic and creative work.\\n2. **Enhanced Customer Experience**: Agentic AI can provide personalized and proactive customer service, leading to increased customer satisfaction and loyalty.\\n3. **Increased Revenue**: Agentic AI can optimize marketing campaigns and sales processes to increase revenue and profitability.\\n4. **Reduced Risk**: Agentic AI can analyze risk data and make recommendations to reduce risk exposure, leading to increased business resilience and sustainability.\\n5. **Competitive Advantage**: Agentic AI can provide businesses with a competitive advantage by enabling them to make faster and more informed decisions, and respond more quickly to changing market conditions.\\n\\nBest Practices for Implementing Agentic AI in Business:\\n\\n1. **Start Small**: Begin with a small pilot project to test the feasibility and effectiveness of agentic AI in a specific business process or function.\\n2. **Define Clear Goals and Objectives**: Clearly define the goals and objectives of the agentic AI project, and ensure that they align with overall business strategy and objectives.\\n3. **Choose the Right AI Technology**: Select the right AI technology and tools for the specific business use case, and ensure that they are scalable and adaptable to changing business needs.\\n4. **Provide Ongoing Training and Support**: Provide ongoing training and support to ensure that employees understand how to use agentic AI effectively, and can adapt to changing business processes and requirements.\\n5. **Monitor and Evaluate**: Continuously monitor and evaluate the effectiveness of agentic AI in meeting business goals and objectives, and make adjustments as needed.\\n\\nRecommendations for Future Research:\\n\\n1. **Investigating the Impact of Agentic AI on Business Decision-Making**: Investigate how agentic AI affects business decision-making, and identify best practices for incorporating AI-driven insights into decision-making processes.\\n2. **Developing More Advanced AI Capabilities**: Develop more advanced AI capabilities, such as natural language processing and computer vision, to enable businesses to automate more complex tasks and processes.\\n3. **Investigating the Human-AI Interface**: Investigate the human-AI interface, and identify best practices for designing intuitive and user-friendly interfaces that facilitate effective collaboration between humans and AI systems.', additional_kwargs={}, response_metadata={'token_usage': {'completion_tokens': 761, 'prompt_tokens': 90, 'total_tokens': 851, 'completion_time': 0.983385771, 'prompt_time': 0.004800907, 'queue_time': 0.071565954, 'total_time': 0.988186678}, 'model_name': 'llama-3.1-8b-instant', 'system_fingerprint': 'fp_31e1ee87c5', 'service_tier': 'on_demand', 'finish_reason': 'stop', 'logprobs': None, 'model_provider': 'groq'}, id='lc_run--8939a574-0b69-4ad1-9e74-18cedd0822f5-0', usage_metadata={'input_tokens': 90, 'output_tokens': 761, 'total_tokens': 851})]"
      ]
     },
     "execution_count": 24,
     "metadata": {},
     "output_type": "execute_result"
    }
   ],
   "source": [
    "response[\"messages\"]"
   ]
  },
  {
   "cell_type": "markdown",
   "id": "efe3fcc8",
   "metadata": {},
   "source": [
    "**Supervise Multi AI Agent Architecture**"
   ]
  },
  {
   "cell_type": "code",
   "execution_count": 33,
   "id": "7282ee6d",
   "metadata": {},
   "outputs": [],
   "source": [
    "from typing import TypedDict , Annotated, List, Literal, Dict, Any\n",
    "from langchain_core.messages import BaseMessage, HumanMessage, AIMessage, SystemMessage\n",
    "from langgraph.graph import StateGraph, END, MessagesState\n",
    "from langgraph.checkpoint.memory import MemorySaver\n",
    "import random\n",
    "from datetime import datetime"
   ]
  },
  {
   "cell_type": "code",
   "execution_count": 36,
   "id": "4d2974ea",
   "metadata": {},
   "outputs": [],
   "source": [
    "#=================================================\n",
    "# State Definition\n",
    "#==================================================\n",
    "\n",
    "# class SupervisorState(MessagesState):\n",
    "#     \"\"\"State for the supervisor multi-agent system\"\"\"\n",
    "#     current_agent: str = \"\"\n",
    "#     task_assignments: Dict[str,List[str]] = {} #Track what each agent should do\n",
    "#     agent_outputs: Dict[str, Any] = {} #Store outputs from each agent\n",
    "#     workflow_stage: str = \"initial\" #track workflow progress\n",
    "#     iteration_count: int = 0\n",
    "#     max_iterations: int = 10\n",
    "#     final_output: str = \"\"\n",
    "\n",
    "\n",
    "class SupervisorState(MessagesState):\n",
    "    \"\"\"State for the multi-agent system\"\"\"\n",
    "    next_agent: str = \"\"\n",
    "    research_data: str = \"\"\n",
    "    analysis: str = \"\"\n",
    "    final_report: str = \"\"\n",
    "    task_complete: bool = False\n",
    "    current_task: str = \"\"\n",
    "\n",
    "\n"
   ]
  },
  {
   "cell_type": "code",
   "execution_count": 37,
   "id": "b78f9ead",
   "metadata": {},
   "outputs": [],
   "source": [
    "# ===================================\n",
    "# Supervisor with Groq LLM\n",
    "# ===================================\n",
    "from langchain_core.prompts import ChatPromptTemplate\n",
    "def create_supervisor_chain():\n",
    "    \"\"\"Creates the supervisor decision chain\"\"\"\n",
    "    \n",
    "    supervisor_prompt = ChatPromptTemplate.from_messages([\n",
    "        (\"system\", \"\"\"You are a supervisor managing a team of agents:\n",
    "        \n",
    "1. Researcher - Gathers information and data\n",
    "2. Analyst - Analyzes data and provides insights  \n",
    "3. Writer - Creates reports and summaries\n",
    "\n",
    "Based on the current state and conversation, decide which agent should work next.\n",
    "If the task is complete, respond with 'DONE'.\n",
    "\n",
    "Current state:\n",
    "- Has research data: {has_research}\n",
    "- Has analysis: {has_analysis}\n",
    "- Has report: {has_report}\n",
    "\n",
    "Respond with ONLY the agent name (researcher/analyst/writer) or 'DONE'.\n",
    "\"\"\"),\n",
    "        (\"human\", \"{task}\")\n",
    "    ])\n",
    "    \n",
    "    return supervisor_prompt | llm"
   ]
  },
  {
   "cell_type": "code",
   "execution_count": 38,
   "id": "b92cb43a",
   "metadata": {},
   "outputs": [],
   "source": [
    "def supervisor_agent(state: SupervisorState) -> Dict:\n",
    "    \"\"\"Supervisor decides next agent using Groq LLM\"\"\"\n",
    "    \n",
    "    messages = state[\"messages\"]\n",
    "    task = messages[-1].content if messages else \"No task\"\n",
    "    \n",
    "    # Check what's been completed\n",
    "    has_research = bool(state.get(\"research_data\", \"\"))\n",
    "    has_analysis = bool(state.get(\"analysis\", \"\"))\n",
    "    has_report = bool(state.get(\"final_report\", \"\"))\n",
    "    \n",
    "    # Get LLM decision\n",
    "    chain = create_supervisor_chain()\n",
    "    decision = chain.invoke({\n",
    "        \"task\": task,\n",
    "        \"has_research\": has_research,\n",
    "        \"has_analysis\": has_analysis,\n",
    "        \"has_report\": has_report\n",
    "    })\n",
    "    \n",
    "    # Parse decision\n",
    "    decision_text = decision.content.strip().lower()\n",
    "    print(decision_text)\n",
    "    \n",
    "    # Determine next agent\n",
    "    if \"done\" in decision_text or has_report:\n",
    "        next_agent = \"end\"\n",
    "        supervisor_msg = \"✅ Supervisor: All tasks complete! Great work team.\"\n",
    "    elif \"researcher\" in decision_text or not has_research:\n",
    "        next_agent = \"researcher\"\n",
    "        supervisor_msg = \"📋 Supervisor: Let's start with research. Assigning to Researcher...\"\n",
    "    elif \"analyst\" in decision_text or (has_research and not has_analysis):\n",
    "        next_agent = \"analyst\"\n",
    "        supervisor_msg = \"📋 Supervisor: Research done. Time for analysis. Assigning to Analyst...\"\n",
    "    elif \"writer\" in decision_text or (has_analysis and not has_report):\n",
    "        next_agent = \"writer\"\n",
    "        supervisor_msg = \"📋 Supervisor: Analysis complete. Let's create the report. Assigning to Writer...\"\n",
    "    else:\n",
    "        next_agent = \"end\"\n",
    "        supervisor_msg = \"✅ Supervisor: Task seems complete.\"\n",
    "    \n",
    "    return {\n",
    "        \"messages\": [AIMessage(content=supervisor_msg)],\n",
    "        \"next_agent\": next_agent,\n",
    "        \"current_task\": task\n",
    "    }"
   ]
  },
  {
   "cell_type": "code",
   "execution_count": 39,
   "id": "fcb71eaa",
   "metadata": {},
   "outputs": [],
   "source": [
    "# ===================================\n",
    "# Agent 1: Researcher (using Groq)\n",
    "# ===================================\n",
    "\n",
    "def researcher_agent(state: SupervisorState) -> Dict:\n",
    "    \"\"\"Researcher uses Groq to gather information\"\"\"\n",
    "    \n",
    "    task = state.get(\"current_task\", \"research topic\")\n",
    "    \n",
    "    # Create research prompt\n",
    "    research_prompt = f\"\"\"As a research specialist, provide comprehensive information about: {task}\n",
    "\n",
    "    Include:\n",
    "    1. Key facts and background\n",
    "    2. Current trends or developments\n",
    "    3. Important statistics or data points\n",
    "    4. Notable examples or case studies\n",
    "    \n",
    "    Be concise but thorough.\"\"\"\n",
    "    \n",
    "    # Get research from LLM\n",
    "    research_response = llm.invoke([HumanMessage(content=research_prompt)])\n",
    "    research_data = research_response.content\n",
    "    \n",
    "    # Create agent message\n",
    "    agent_message = f\"🔍 Researcher: I've completed the research on '{task}'.\\n\\nKey findings:\\n{research_data[:500]}...\"\n",
    "    \n",
    "    return {\n",
    "        \"messages\": [AIMessage(content=agent_message)],\n",
    "        \"research_data\": research_data,\n",
    "        \"next_agent\": \"supervisor\"\n",
    "    }"
   ]
  },
  {
   "cell_type": "code",
   "execution_count": 40,
   "id": "08cdfa86",
   "metadata": {},
   "outputs": [],
   "source": [
    "# ===================================\n",
    "# Agent 2: Analyst (using Groq)\n",
    "# ===================================\n",
    "\n",
    "def analyst_agent(state: SupervisorState) -> Dict:\n",
    "    \"\"\"Analyst uses Groq to analyze the research\"\"\"\n",
    "    \n",
    "    research_data = state.get(\"research_data\", \"\")\n",
    "    task = state.get(\"current_task\", \"\")\n",
    "    \n",
    "    # Create analysis prompt\n",
    "    analysis_prompt = f\"\"\"As a data analyst, analyze this research data and provide insights:\n",
    "\n",
    "Research Data:\n",
    "{research_data}\n",
    "\n",
    "Provide:\n",
    "1. Key insights and patterns\n",
    "2. Strategic implications\n",
    "3. Risks and opportunities\n",
    "4. Recommendations\n",
    "\n",
    "Focus on actionable insights related to: {task}\"\"\"\n",
    "    \n",
    "    # Get analysis from LLM\n",
    "    analysis_response = llm.invoke([HumanMessage(content=analysis_prompt)])\n",
    "    analysis = analysis_response.content\n",
    "    \n",
    "    # Create agent message\n",
    "    agent_message = f\"📊 Analyst: I've completed the analysis.\\n\\nTop insights:\\n{analysis[:400]}...\"\n",
    "    \n",
    "    return {\n",
    "        \"messages\": [AIMessage(content=agent_message)],\n",
    "        \"analysis\": analysis,\n",
    "        \"next_agent\": \"supervisor\"\n",
    "    }"
   ]
  },
  {
   "cell_type": "code",
   "execution_count": 41,
   "id": "84142469",
   "metadata": {},
   "outputs": [],
   "source": [
    "# ===================================\n",
    "# Agent 3: Writer (using Groq)\n",
    "# ===================================\n",
    "\n",
    "def writer_agent(state: SupervisorState) -> Dict:\n",
    "    \"\"\"Writer uses Groq to create final report\"\"\"\n",
    "    \n",
    "    research_data = state.get(\"research_data\", \"\")\n",
    "    analysis = state.get(\"analysis\", \"\")\n",
    "    task = state.get(\"current_task\", \"\")\n",
    "    \n",
    "    # Create writing prompt\n",
    "    writing_prompt = f\"\"\"As a professional writer, create an executive report based on:\n",
    "\n",
    "Task: {task}\n",
    "\n",
    "Research Findings:\n",
    "{research_data[:1000]}\n",
    "\n",
    "Analysis:\n",
    "{analysis[:1000]}\n",
    "\n",
    "Create a well-structured report with:\n",
    "1. Executive Summary\n",
    "2. Key Findings  \n",
    "3. Analysis & Insights\n",
    "4. Recommendations\n",
    "5. Conclusion\n",
    "\n",
    "Keep it professional and concise.\"\"\"\n",
    "    \n",
    "    # Get report from LLM\n",
    "    report_response = llm.invoke([HumanMessage(content=writing_prompt)])\n",
    "    report = report_response.content\n",
    "    \n",
    "    # Create final formatted report\n",
    "    final_report = f\"\"\"\n",
    "📄 FINAL REPORT\n",
    "{'='*50}\n",
    "Generated: {datetime.now().strftime('%Y-%m-%d %H:%M')}\n",
    "Topic: {task}\n",
    "{'='*50}\n",
    "\n",
    "{report}\n",
    "\n",
    "{'='*50}\n",
    "Report compiled by Multi-Agent AI System powered by Groq\n",
    "\"\"\"\n",
    "    \n",
    "    return {\n",
    "        \"messages\": [AIMessage(content=f\"✍️ Writer: Report complete! See below for the full document.\")],\n",
    "        \"final_report\": final_report,\n",
    "        \"next_agent\": \"supervisor\",\n",
    "        \"task_complete\": True\n",
    "    }"
   ]
  },
  {
   "cell_type": "code",
   "execution_count": 42,
   "id": "3152a45b",
   "metadata": {},
   "outputs": [],
   "source": [
    "# ===================================\n",
    "# Router Function\n",
    "# ===================================\n",
    "\n",
    "def router(state: SupervisorState) -> Literal[\"supervisor\", \"researcher\", \"analyst\", \"writer\", \"__end__\"]:\n",
    "    \"\"\"Routes to next agent based on state\"\"\"\n",
    "    \n",
    "    next_agent = state.get(\"next_agent\", \"supervisor\")\n",
    "    \n",
    "    if next_agent == \"end\" or state.get(\"task_complete\", False):\n",
    "        return END\n",
    "        \n",
    "    if next_agent in [\"supervisor\", \"researcher\", \"analyst\", \"writer\"]:\n",
    "        return next_agent\n",
    "        \n",
    "    return \"supervisor\""
   ]
  },
  {
   "cell_type": "code",
   "execution_count": 43,
   "id": "266e1e35",
   "metadata": {},
   "outputs": [],
   "source": [
    "# ===================================\n",
    "# Router Function\n",
    "# ===================================\n",
    "\n",
    "def router(state: SupervisorState) -> Literal[\"supervisor\", \"researcher\", \"analyst\", \"writer\", \"__end__\"]:\n",
    "    \"\"\"Routes to next agent based on state\"\"\"\n",
    "    \n",
    "    next_agent = state.get(\"next_agent\", \"supervisor\")\n",
    "    \n",
    "    if next_agent == \"end\" or state.get(\"task_complete\", False):\n",
    "        return END\n",
    "        \n",
    "    if next_agent in [\"supervisor\", \"researcher\", \"analyst\", \"writer\"]:\n",
    "        return next_agent\n",
    "        \n",
    "    return \"supervisor\""
   ]
  },
  {
   "cell_type": "code",
   "execution_count": 44,
   "id": "16af76fc",
   "metadata": {},
   "outputs": [],
   "source": [
    "# Create workflow\n",
    "workflow = StateGraph(SupervisorState)\n",
    "\n",
    "# Add nodes\n",
    "workflow.add_node(\"supervisor\", supervisor_agent)\n",
    "workflow.add_node(\"researcher\", researcher_agent)\n",
    "workflow.add_node(\"analyst\", analyst_agent)\n",
    "workflow.add_node(\"writer\", writer_agent)\n",
    "\n",
    "# Set entry point\n",
    "workflow.set_entry_point(\"supervisor\")\n",
    "\n",
    "# Add routing\n",
    "for node in [\"supervisor\", \"researcher\", \"analyst\", \"writer\"]:\n",
    "    workflow.add_conditional_edges(\n",
    "        node,\n",
    "        router,\n",
    "        {\n",
    "            \"supervisor\": \"supervisor\",\n",
    "            \"researcher\": \"researcher\",\n",
    "            \"analyst\": \"analyst\",\n",
    "            \"writer\": \"writer\",\n",
    "            END: END\n",
    "        }\n",
    "    )\n",
    "\n",
    "graph=workflow.compile()"
   ]
  },
  {
   "cell_type": "code",
   "execution_count": 45,
   "id": "bf88bce6",
   "metadata": {},
   "outputs": [
    {
     "data": {
      "image/png": "[encoded data removed]",
      "text/plain": [
       "<langgraph.graph.state.CompiledStateGraph object at 0x0000026D2EF668D0>"
      ]
     },
     "execution_count": 45,
     "metadata": {},
     "output_type": "execute_result"
    }
   ],
   "source": [
    "graph"
   ]
  },
  {
   "cell_type": "code",
   "execution_count": 46,
   "id": "35547fab",
   "metadata": {},
   "outputs": [
    {
     "name": "stdout",
     "output_type": "stream",
     "text": [
      "researcher\n",
      "analyst\n",
      "writer\n"
     ]
    }
   ],
   "source": [
    "response=graph.invoke(HumanMessage(content=\"What are the benefits and risks of AI in healthcare?\"))"
   ]
  },
  {
   "cell_type": "code",
   "execution_count": 47,
   "id": "1398336e",
   "metadata": {},
   "outputs": [
    {
     "data": {
      "text/plain": [
       "{'messages': [AIMessage(content=\"📋 Supervisor: Let's start with research. Assigning to Researcher...\", additional_kwargs={}, response_metadata={}, id='5d28c7da-ab0f-4e43-a71c-c0d983c85783'),\n",
       "  AIMessage(content=\"🔍 Researcher: I've completed the research on 'No task'.\\n\\nKey findings:\\nSince no specific task was provided, I'll give a general example of what the response could look like for a hypothetical task.\\n\\n**Task:** Research on the Impact of Climate Change on Coastal Ecosystems\\n\\n### 1. Key Facts and Background\\n\\n- **Definition:** Coastal ecosystems refer to the diverse range of marine and terrestrial habitats found along coastlines, including mangroves, coral reefs, salt marshes, and dunes.\\n- **Climate Change Impact:** Rising sea levels, increased storm frequency, and alte...\", additional_kwargs={}, response_metadata={}, id='bb6c6b8c-0c6d-4bdc-9cfb-20c3e583a8e9'),\n",
       "  AIMessage(content='📋 Supervisor: Research done. Time for analysis. Assigning to Analyst...', additional_kwargs={}, response_metadata={}, id='ec57d469-86fe-43ce-8122-81e2af6e09bf'),\n",
       "  AIMessage(content=\"📊 Analyst: I've completed the analysis.\\n\\nTop insights:\\n### Analysis of Hypothetical Research Task: 'No task'\\n\\nGiven the lack of a specific task, I will provide a general analysis of the hypothetical task: 'Research on the Impact of Climate Change on Coastal Ecosystems.'\\n\\n### 1. Key Insights and Patterns\\n\\n* **Rising Sea Levels and Storms:** The data highlights a significant increase in sea levels (20 cm since 1880) and a corresponding rise in storm fre...\", additional_kwargs={}, response_metadata={}, id='ea41024b-1991-4ada-aaa3-c3c9fa4b1db3'),\n",
       "  AIMessage(content=\"📋 Supervisor: Analysis complete. Let's create the report. Assigning to Writer...\", additional_kwargs={}, response_metadata={}, id='9fcd20c0-115e-4342-b687-d03fe23f9556'),\n",
       "  AIMessage(content='✍️ Writer: Report complete! See below for the full document.', additional_kwargs={}, response_metadata={}, id='a77cc7ab-e3ef-49b6-ac50-73be5a6c6361')],\n",
       " 'next_agent': 'supervisor',\n",
       " 'research_data': \"Since no specific task was provided, I'll give a general example of what the response could look like for a hypothetical task.\\n\\n**Task:** Research on the Impact of Climate Change on Coastal Ecosystems\\n\\n### 1. Key Facts and Background\\n\\n- **Definition:** Coastal ecosystems refer to the diverse range of marine and terrestrial habitats found along coastlines, including mangroves, coral reefs, salt marshes, and dunes.\\n- **Climate Change Impact:** Rising sea levels, increased storm frequency, and altered ocean chemistry threaten the health and resilience of these ecosystems.\\n- **Global Significance:** Coastal ecosystems provide essential ecosystem services, including shoreline protection, fish production, and carbon sequestration.\\n\\n### 2. Current Trends or Developments\\n\\n- **Rising Sea Levels:** Global sea levels have risen by approximately 20 cm since 1880, with a current rate of 3.2 mm per year.\\n- **Increased Storm Frequency:** Climate change is linked to more frequent and intense storms, which can cause significant damage to coastal ecosystems.\\n- **Ocean Acidification:** As the ocean absorbs excess carbon dioxide from the atmosphere, its pH level decreases, affecting marine life, particularly coral reefs.\\n\\n### 3. Important Statistics or Data Points\\n\\n- **Loss of Mangrove Forests:** It's estimated that 20% of global mangrove forests have been lost in the past 20 years, largely due to coastal development and climate change.\\n- **Coral Reef Degradation:** Up to 90% of the world's coral reefs are threatened by climate change, pollution, and overfishing.\\n- **Economic Value:** Coastal ecosystems provide an estimated $1.6 trillion in ecosystem services annually, supporting the livelihoods of millions of people.\\n\\n### 4. Notable Examples or Case Studies\\n\\n- **The Great Barrier Reef (Australia):** Rising sea temperatures and ocean acidification have led to widespread coral bleaching, affecting 30% of the reef's coral cover.\\n- **The Sundarbans (India/Bangladesh):** This mangrove forest is a vital carbon sink and a critical habitat for endangered species, but it's threatened by climate change and coastal development.\\n- **The Wadden Sea (Europe):** This coastal ecosystem has been impacted by sea level rise, changes in ocean currents, and increased storm frequency, highlighting the need for integrated coastal management.\\n\\nThis example showcases a comprehensive overview of a hypothetical task, providing key facts, current trends, statistics, and notable examples to illustrate the importance of addressing the impact of climate change on coastal ecosystems.\",\n",
       " 'analysis': \"### Analysis of Hypothetical Research Task: 'No task'\\n\\nGiven the lack of a specific task, I will provide a general analysis of the hypothetical task: 'Research on the Impact of Climate Change on Coastal Ecosystems.'\\n\\n### 1. Key Insights and Patterns\\n\\n* **Rising Sea Levels and Storms:** The data highlights a significant increase in sea levels (20 cm since 1880) and a corresponding rise in storm frequency, which poses a significant threat to coastal ecosystems.\\n* **Ecosystem Decline:** The loss of mangrove forests (20% in the past 20 years) and coral reef degradation (up to 90% threatened) indicate a decline in coastal ecosystem health.\\n* **Economic Significance:** Coastal ecosystems provide essential ecosystem services worth $1.6 trillion annually, emphasizing their importance for human livelihoods.\\n\\n### 2. Strategic Implications\\n\\n* **Integrated Coastal Management:** The research suggests that integrated coastal management strategies are necessary to address the combined impacts of climate change, coastal development, and human activities.\\n* **Conservation Efforts:** Targeted conservation efforts, such as protecting mangrove forests and coral reefs, are crucial for maintaining the health and resilience of coastal ecosystems.\\n* **Climate Change Mitigation:** Reducing greenhouse gas emissions to slow the rate of climate change is essential for preserving coastal ecosystems and the ecosystem services they provide.\\n\\n### 3. Risks and Opportunities\\n\\n* **Risks:** The loss of coastal ecosystems can lead to increased vulnerability to natural disasters, loss of biodiversity, and decreased ecosystem services, ultimately affecting human livelihoods and the economy.\\n* **Opportunities:** Effective conservation and management of coastal ecosystems can provide numerous benefits, including carbon sequestration, shoreline protection, and sustainable livelihoods for coastal communities.\\n\\n### 4. Recommendations\\n\\n1. **Develop and Implement Integrated Coastal Management Plans:** Encourage governments, local communities, and international organizations to develop and implement integrated coastal management plans that address the impacts of climate change, coastal development, and human activities.\\n2. **Support Conservation Efforts:** Provide financial and technical support for targeted conservation efforts, such as protecting mangrove forests and coral reefs, to maintain the health and resilience of coastal ecosystems.\\n3. **Invest in Climate Change Mitigation:** Encourage governments and international organizations to invest in climate change mitigation efforts, such as reducing greenhouse gas emissions, to slow the rate of climate change and preserve coastal ecosystems.\\n4. **Promote Sustainable Coastal Development:** Encourage sustainable coastal development practices that minimize the impacts of human activities on coastal ecosystems and promote eco-friendly tourism and economic activities.\\n\\nBy analyzing the hypothetical task, we have identified key insights, strategic implications, risks, and opportunities related to the impact of climate change on coastal ecosystems. The recommendations provided offer a starting point for developing effective solutions to address this pressing global challenge.\",\n",
       " 'final_report': \"\\n📄 FINAL REPORT\\n==================================================\\nGenerated: 2025-10-23 16:47\\nTopic: 📊 Analyst: I've completed the analysis.\\n\\nTop insights:\\n### Analysis of Hypothetical Research Task: 'No task'\\n\\nGiven the lack of a specific task, I will provide a general analysis of the hypothetical task: 'Research on the Impact of Climate Change on Coastal Ecosystems.'\\n\\n### 1. Key Insights and Patterns\\n\\n* **Rising Sea Levels and Storms:** The data highlights a significant increase in sea levels (20 cm since 1880) and a corresponding rise in storm fre...\\n==================================================\\n\\n**Executive Report: Research on the Impact of Climate Change on Coastal Ecosystems**\\n\\n**[Date: 23 October 2025]**\\n\\n**[Company: Sustainable Research Institute]**\\n\\n**[Author: [Your Name]]**\\n\\n**Executive Summary**\\n\\nThis report presents the findings of a hypothetical research task on the impact of climate change on coastal ecosystems. The analysis reveals significant threats to the health and resilience of these ecosystems, with rising sea levels, increased storm frequency, and altered ocean chemistry posing major challenges. The research highlights the economic significance of coastal ecosystems, providing essential ecosystem services worth $1.6 trillion annually. This report outlines key findings, analysis, recommendations, and conclusions to inform integrated coastal management strategies and mitigate the impacts of climate change on coastal ecosystems.\\n\\n**Key Findings**\\n\\n1. **Rising Sea Levels and Storms:** Global sea levels have risen by approximately 20 cm since 1880, with a current rate of 3.2 mm per year, corresponding with a rise in storm frequency.\\n2. **Ecosystem Decline:** Mangrove forests have declined by 20% in the past 20 years, while coral reefs are threatened by up to 90%.\\n3. **Economic Significance:** Coastal ecosystems provide essential ecosystem services worth $1.6 trillion annually, emphasizing their importance for human livelihoods.\\n\\n**Analysis & Insights**\\n\\nThe analysis reveals that the combination of rising sea levels, increased storm frequency, and altered ocean chemistry poses a significant threat to coastal ecosystems. The loss of mangrove forests and coral reef degradation indicate a decline in coastal ecosystem health. The economic significance of coastal ecosystems highlights the importance of integrated coastal management strategies to mitigate the impacts of climate change.\\n\\n**Recommendations**\\n\\n1. **Integrated Coastal Management:** Implement integrated coastal management strategies to address the combined impacts of climate change on coastal ecosystems.\\n2. **Ecosystem-Based Adaptation:** Promote ecosystem-based adaptation measures, such as mangrove restoration and coral reef conservation, to enhance the resilience of coastal ecosystems.\\n3. **Climate Change Mitigation:** Implement climate change mitigation strategies to reduce greenhouse gas emissions and slow the rate of sea level rise.\\n\\n**Conclusion**\\n\\nThe research on the impact of climate change on coastal ecosystems highlights the urgent need for integrated coastal management strategies to mitigate the impacts of climate change. The economic significance of coastal ecosystems emphasizes the importance of preserving these ecosystems for human livelihoods. We recommend implementing ecosystem-based adaptation measures, climate change mitigation strategies, and integrated coastal management to protect coastal ecosystems and ensure their continued provision of essential ecosystem services.\\n\\n**Recommendations for Future Research**\\n\\n1. **Site-Specific Studies:** Conduct site-specific studies to investigate the impacts of climate change on coastal ecosystems in different regions.\\n2. **Economic Valuation:** Conduct economic valuation studies to quantify the economic benefits of preserving coastal ecosystems.\\n3. **Policy Development:** Develop policies to support integrated coastal management and ecosystem-based adaptation measures.\\n\\n**[End of Report]**\\n\\nNote: This report is a general example of what the response could look like for a hypothetical task. Please modify it according to your specific needs and requirements.\\n\\n==================================================\\nReport compiled by Multi-Agent AI System powered by Groq\\n\",\n",
       " 'task_complete': True,\n",
       " 'current_task': \"📊 Analyst: I've completed the analysis.\\n\\nTop insights:\\n### Analysis of Hypothetical Research Task: 'No task'\\n\\nGiven the lack of a specific task, I will provide a general analysis of the hypothetical task: 'Research on the Impact of Climate Change on Coastal Ecosystems.'\\n\\n### 1. Key Insights and Patterns\\n\\n* **Rising Sea Levels and Storms:** The data highlights a significant increase in sea levels (20 cm since 1880) and a corresponding rise in storm fre...\"}"
      ]
     },
     "execution_count": 47,
     "metadata": {},
     "output_type": "execute_result"
    }
   ],
   "source": [
    "response"
   ]
  },
  {
   "cell_type": "code",
   "execution_count": 51,
   "id": "5fbcc749",
   "metadata": {},
   "outputs": [
    {
     "data": {
      "text/plain": [
       "\"\\n📄 FINAL REPORT\\n==================================================\\nGenerated: 2025-10-23 16:47\\nTopic: 📊 Analyst: I've completed the analysis.\\n\\nTop insights:\\n### Analysis of Hypothetical Research Task: 'No task'\\n\\nGiven the lack of a specific task, I will provide a general analysis of the hypothetical task: 'Research on the Impact of Climate Change on Coastal Ecosystems.'\\n\\n### 1. Key Insights and Patterns\\n\\n* **Rising Sea Levels and Storms:** The data highlights a significant increase in sea levels (20 cm since 1880) and a corresponding rise in storm fre...\\n==================================================\\n\\n**Executive Report: Research on the Impact of Climate Change on Coastal Ecosystems**\\n\\n**[Date: 23 October 2025]**\\n\\n**[Company: Sustainable Research Institute]**\\n\\n**[Author: [Your Name]]**\\n\\n**Executive Summary**\\n\\nThis report presents the findings of a hypothetical research task on the impact of climate change on coastal ecosystems. The analysis reveals significant threats to the health and resilience of these ecosystems, with rising sea levels, increased storm frequency, and altered ocean chemistry posing major challenges. The research highlights the economic significance of coastal ecosystems, providing essential ecosystem services worth $1.6 trillion annually. This report outlines key findings, analysis, recommendations, and conclusions to inform integrated coastal management strategies and mitigate the impacts of climate change on coastal ecosystems.\\n\\n**Key Findings**\\n\\n1. **Rising Sea Levels and Storms:** Global sea levels have risen by approximately 20 cm since 1880, with a current rate of 3.2 mm per year, corresponding with a rise in storm frequency.\\n2. **Ecosystem Decline:** Mangrove forests have declined by 20% in the past 20 years, while coral reefs are threatened by up to 90%.\\n3. **Economic Significance:** Coastal ecosystems provide essential ecosystem services worth $1.6 trillion annually, emphasizing their importance for human livelihoods.\\n\\n**Analysis & Insights**\\n\\nThe analysis reveals that the combination of rising sea levels, increased storm frequency, and altered ocean chemistry poses a significant threat to coastal ecosystems. The loss of mangrove forests and coral reef degradation indicate a decline in coastal ecosystem health. The economic significance of coastal ecosystems highlights the importance of integrated coastal management strategies to mitigate the impacts of climate change.\\n\\n**Recommendations**\\n\\n1. **Integrated Coastal Management:** Implement integrated coastal management strategies to address the combined impacts of climate change on coastal ecosystems.\\n2. **Ecosystem-Based Adaptation:** Promote ecosystem-based adaptation measures, such as mangrove restoration and coral reef conservation, to enhance the resilience of coastal ecosystems.\\n3. **Climate Change Mitigation:** Implement climate change mitigation strategies to reduce greenhouse gas emissions and slow the rate of sea level rise.\\n\\n**Conclusion**\\n\\nThe research on the impact of climate change on coastal ecosystems highlights the urgent need for integrated coastal management strategies to mitigate the impacts of climate change. The economic significance of coastal ecosystems emphasizes the importance of preserving these ecosystems for human livelihoods. We recommend implementing ecosystem-based adaptation measures, climate change mitigation strategies, and integrated coastal management to protect coastal ecosystems and ensure their continued provision of essential ecosystem services.\\n\\n**Recommendations for Future Research**\\n\\n1. **Site-Specific Studies:** Conduct site-specific studies to investigate the impacts of climate change on coastal ecosystems in different regions.\\n2. **Economic Valuation:** Conduct economic valuation studies to quantify the economic benefits of preserving coastal ecosystems.\\n3. **Policy Development:** Develop policies to support integrated coastal management and ecosystem-based adaptation measures.\\n\\n**[End of Report]**\\n\\nNote: This report is a general example of what the response could look like for a hypothetical task. Please modify it according to your specific needs and requirements.\\n\\n==================================================\\nReport compiled by Multi-Agent AI System powered by Groq\\n\""
      ]
     },
     "execution_count": 51,
     "metadata": {},
     "output_type": "execute_result"
    }
   ],
   "source": [
    "response['final_report']"
   ]
  }
 ],
 "metadata": {
  "kernelspec": {
   "display_name": "AgenticAI-Langraph-MCP",
   "language": "python",
   "name": "python3"
  },
  "language_info": {
   "codemirror_mode": {
    "name": "ipython",
    "version": 3
   },
   "file_extension": ".py",
   "mimetype": "text/x-python",
   "name": "python",
   "nbconvert_exporter": "python",
   "pygments_lexer": "ipython3",
   "version": "3.12.11"
  }
 },
 "nbformat": 4,
 "nbformat_minor": 5
}
